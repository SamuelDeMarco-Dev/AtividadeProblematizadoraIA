{
  "nbformat": 4,
  "nbformat_minor": 0,
  "metadata": {
    "colab": {
      "provenance": [],
      "authorship_tag": "ABX9TyMJt2IwbfcOLoSt411q3tKK",
      "include_colab_link": true
    },
    "kernelspec": {
      "name": "python3",
      "display_name": "Python 3"
    },
    "language_info": {
      "name": "python"
    }
  },
  "cells": [
    {
      "cell_type": "markdown",
      "metadata": {
        "id": "view-in-github",
        "colab_type": "text"
      },
      "source": [
        "<a href=\"https://colab.research.google.com/github/SamuelDeMarco-Dev/AtividadeProblematizadoraIA/blob/main/AtividadeProblematizadoraIA.ipynb\" target=\"_parent\"><img src=\"https://colab.research.google.com/assets/colab-badge.svg\" alt=\"Open In Colab\"/></a>"
      ]
    },
    {
      "cell_type": "markdown",
      "source": [
        "# ========================================\n",
        "# SimCLR - Reproduzindo parcialmente no Colab\n",
        "# Pré-treino + Linear Evaluation\n",
        "# ========================================\n"
      ],
      "metadata": {
        "id": "TMLMovmISkC7"
      }
    },
    {
      "cell_type": "code",
      "source": [
        "!pip install torch torchvision matplotlib --quiet\n",
        "\n",
        "import torch\n",
        "import torch.nn as nn\n",
        "import torch.nn.functional as F\n",
        "import torchvision\n",
        "import torchvision.transforms as T\n",
        "from torch.utils.data import DataLoader"
      ],
      "metadata": {
        "id": "OrZZr1FlSsck"
      },
      "execution_count": null,
      "outputs": []
    },
    {
      "cell_type": "markdown",
      "source": [
        "# ----- 1. Dataset CIFAR-10 com augmentations -----"
      ],
      "metadata": {
        "id": "rEtowT_dSq8_"
      }
    },
    {
      "cell_type": "code",
      "source": [
        "transform = T.Compose([\n",
        "    T.RandomResizedCrop(32),\n",
        "    T.RandomHorizontalFlip(),\n",
        "    T.ColorJitter(0.4, 0.4, 0.4, 0.1),\n",
        "    T.RandomGrayscale(p=0.2),\n",
        "    T.ToTensor()\n",
        "])\n",
        "\n",
        "trainset = torchvision.datasets.CIFAR10(root=\"./data\", train=True, download=True, transform=transform)\n",
        "trainloader = DataLoader(trainset, batch_size=256, shuffle=True, num_workers=2)\n",
        "\n",
        "test_transform = T.ToTensor()\n",
        "testset = torchvision.datasets.CIFAR10(root=\"./data\", train=False, download=True, transform=test_transform)\n",
        "testloader = DataLoader(testset, batch_size=256, shuffle=False, num_workers=2)\n"
      ],
      "metadata": {
        "colab": {
          "base_uri": "https://localhost:8080/"
        },
        "id": "idwCEPqQSxGA",
        "outputId": "d68c6326-7a4d-4e29-f276-f8b02c730ae6"
      },
      "execution_count": null,
      "outputs": [
        {
          "output_type": "stream",
          "name": "stderr",
          "text": [
            "100%|██████████| 170M/170M [00:04<00:00, 34.8MB/s]\n"
          ]
        }
      ]
    },
    {
      "cell_type": "markdown",
      "source": [
        "# ----- 2. Encoder backbone (ResNet18 simplificada) -----"
      ],
      "metadata": {
        "id": "ti39neclSzrk"
      }
    },
    {
      "cell_type": "code",
      "source": [
        "from torchvision.models import resnet18\n",
        "\n",
        "class Encoder(nn.Module):\n",
        "    def __init__(self):\n",
        "        super().__init__()\n",
        "        backbone = resnet18(weights=None)\n",
        "        self.features = nn.Sequential(*list(backbone.children())[:-1])  # até penúltima camada\n",
        "        self.fc = nn.Linear(512, 128)  # projeção SimCLR\n",
        "    def forward(self, x):\n",
        "        h = self.features(x)\n",
        "        h = torch.flatten(h, 1)\n",
        "        z = self.fc(h)\n",
        "        return F.normalize(z, dim=-1)\n",
        "\n",
        "# Check for CUDA availability and set the device accordingly\n",
        "device = torch.device(\"cuda\" if torch.cuda.is_available() else \"cpu\")\n",
        "encoder = Encoder().to(device)"
      ],
      "metadata": {
        "id": "JtpwbNh9S2QF"
      },
      "execution_count": null,
      "outputs": []
    },
    {
      "cell_type": "markdown",
      "source": [
        "# ----- 3. Loss de SimCLR (NT-Xent) -----"
      ],
      "metadata": {
        "id": "Qk9G1eg3S33Y"
      }
    },
    {
      "cell_type": "code",
      "source": [
        "def simclr_loss(features, temperature=0.5):\n",
        "    N = features.shape[0] // 2\n",
        "    labels = torch.cat([torch.arange(N) for _ in range(2)], dim=0).to(features.device)\n",
        "    sim = torch.matmul(features, features.T) / temperature\n",
        "    mask = torch.eye(2*N, dtype=torch.bool).to(features.device)\n",
        "    sim = sim.masked_fill(mask, -9e15)\n",
        "    loss = F.cross_entropy(sim, labels)\n",
        "    return loss"
      ],
      "metadata": {
        "id": "ZyephUdCS6S1"
      },
      "execution_count": null,
      "outputs": []
    },
    {
      "cell_type": "markdown",
      "source": [
        "# ----- 4. Treino reduzido -----"
      ],
      "metadata": {
        "id": "Jf9e1q6xS8Jk"
      }
    },
    {
      "cell_type": "code",
      "execution_count": null,
      "metadata": {
        "colab": {
          "base_uri": "https://localhost:8080/"
        },
        "id": "4_iU7Kd1SaUb",
        "outputId": "0a83ce5e-8782-47d3-ab4e-a450b28da585"
      },
      "outputs": [
        {
          "output_type": "stream",
          "name": "stdout",
          "text": [
            "Epoch 1 - Loss: 4499999907905536.0000\n",
            "Epoch 2 - Loss: 4499999907905536.0000\n"
          ]
        }
      ],
      "source": [
        "opt = torch.optim.Adam(encoder.parameters(), lr=3e-4)\n",
        "\n",
        "for epoch in range(2):  # poucas épocas para teste\n",
        "    for imgs, _ in trainloader:\n",
        "        # Duas views do mesmo batch\n",
        "        x1, x2 = imgs, imgs\n",
        "        x1, x2 = x1.to(device), x2.to(device)\n",
        "        f1, f2 = encoder(x1), encoder(x2)\n",
        "        features = torch.cat([f1, f2], dim=0)\n",
        "        loss = simclr_loss(features)\n",
        "        opt.zero_grad()\n",
        "        loss.backward()\n",
        "        opt.step()\n",
        "    print(f\"Epoch {epoch+1} - Loss: {loss.item():.4f}\")"
      ]
    },
    {
      "cell_type": "markdown",
      "source": [
        "# ----- 5. Linear evaluation -----\n",
        "# Congelar encoder e treinar classificador linear simples"
      ],
      "metadata": {
        "id": "rDxIBAI_TBIP"
      }
    },
    {
      "cell_type": "code",
      "source": [
        "class LinearEval(nn.Module):\n",
        "    def __init__(self, encoder, num_classes=10):\n",
        "        super().__init__()\n",
        "        self.encoder = encoder\n",
        "        for p in self.encoder.parameters():\n",
        "            p.requires_grad = False\n",
        "        self.fc = nn.Linear(128, num_classes)\n",
        "    def forward(self, x):\n",
        "        z = self.encoder(x)\n",
        "        return self.fc(z)\n",
        "\n",
        "linear_model = LinearEval(encoder).to(device)\n",
        "criterion = nn.CrossEntropyLoss()\n",
        "optimizer = torch.optim.Adam(linear_model.fc.parameters(), lr=1e-3)"
      ],
      "metadata": {
        "id": "b4spogzbTocU"
      },
      "execution_count": null,
      "outputs": []
    },
    {
      "cell_type": "markdown",
      "source": [
        "# Treino rápido do classificador linear"
      ],
      "metadata": {
        "id": "Hse5q5CxTvUK"
      }
    },
    {
      "cell_type": "code",
      "source": [
        "for epoch in range(5):\n",
        "    linear_model.train()\n",
        "    total_loss, correct, total = 0, 0, 0\n",
        "    for imgs, labels in trainloader:\n",
        "        imgs, labels = imgs.to(device), labels.to(device)\n",
        "        outputs = linear_model(imgs)\n",
        "        loss = criterion(outputs, labels)\n",
        "        optimizer.zero_grad()\n",
        "        loss.backward()\n",
        "        optimizer.step()\n",
        "        total_loss += loss.item()\n",
        "        _, preds = outputs.max(1)\n",
        "        correct += preds.eq(labels).sum().item()\n",
        "        total += labels.size(0)\n",
        "    acc = 100. * correct / total\n",
        "    print(f\"Epoch {epoch+1} - Loss: {total_loss/len(trainloader):.4f}, Train Acc: {acc:.2f}%\")"
      ],
      "metadata": {
        "colab": {
          "base_uri": "https://localhost:8080/"
        },
        "id": "DpnF7YlATyCz",
        "outputId": "e87a1e2f-4a40-4683-f3df-cce275643818"
      },
      "execution_count": null,
      "outputs": [
        {
          "output_type": "stream",
          "name": "stdout",
          "text": [
            "Epoch 1 - Loss: 2.2910, Train Acc: 13.89%\n",
            "Epoch 2 - Loss: 2.2673, Train Acc: 18.31%\n",
            "Epoch 3 - Loss: 2.2478, Train Acc: 19.58%\n",
            "Epoch 4 - Loss: 2.2348, Train Acc: 19.57%\n",
            "Epoch 5 - Loss: 2.2218, Train Acc: 19.77%\n"
          ]
        }
      ]
    },
    {
      "cell_type": "markdown",
      "source": [
        "# Avaliação no conjunto de teste"
      ],
      "metadata": {
        "id": "cRqMolIhT0zg"
      }
    },
    {
      "cell_type": "code",
      "source": [
        "linear_model.eval()\n",
        "correct, total = 0, 0\n",
        "with torch.no_grad():\n",
        "    for imgs, labels in testloader:\n",
        "        imgs, labels = imgs.to(device), labels.to(device)\n",
        "        outputs = linear_model(imgs)\n",
        "        _, preds = outputs.max(1)\n",
        "        correct += preds.eq(labels).sum().item()\n",
        "        total += labels.size(0)\n",
        "\n",
        "test_acc = 100. * correct / total\n",
        "print(f\"Test Accuracy (linear eval): {test_acc:.2f}%\")"
      ],
      "metadata": {
        "colab": {
          "base_uri": "https://localhost:8080/"
        },
        "id": "0_jGi60HT23P",
        "outputId": "baf91474-bd5e-4c18-cfae-1a3bdc87f0b4"
      },
      "execution_count": null,
      "outputs": [
        {
          "output_type": "stream",
          "name": "stdout",
          "text": [
            "Test Accuracy (linear eval): 25.41%\n"
          ]
        }
      ]
    }
  ]
}